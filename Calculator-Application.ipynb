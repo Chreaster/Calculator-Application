{
 "cells": [
  {
   "cell_type": "code",
   "execution_count": 15,
   "id": "95a9bfe9",
   "metadata": {},
   "outputs": [
    {
     "name": "stdout",
     "output_type": "stream",
     "text": [
      "Enter First Number: 12\n",
      "Enter Second Number: 13\n",
      "25.0\n"
     ]
    }
   ],
   "source": [
    "n1 = float(input(\"Enter First Number: \"))\n",
    "n2 = float(input(\"Enter Second Number: \"))\n",
    "\n",
    "#addition\n",
    "\n",
    "\n",
    "print(n1 + n2)"
   ]
  },
  {
   "cell_type": "code",
   "execution_count": 21,
   "id": "d721ae26",
   "metadata": {},
   "outputs": [
    {
     "name": "stdout",
     "output_type": "stream",
     "text": [
      "Select Operations\n",
      "1. Addition\n",
      "2. Subtraction\n",
      "3. Multiplication\n",
      "4. Division\n",
      "5. Modulus\n",
      "6. Exponation\n",
      "\n",
      "Enter choice of operation 1/2/3/4/5/6: 2\n",
      "Enter First Number: 12\n",
      "Enter Second Number: 11\n",
      "12.0 - 11.0 = 1.0\n"
     ]
    }
   ],
   "source": [
    "# Addition\n",
    "def addition(n1, n2):\n",
    "    return n1 + n2\n",
    "\n",
    "# Subtraction\n",
    "\n",
    "def subtraction(n1, n2):\n",
    "    return n1 - n2\n",
    "\n",
    "# Multiplication\n",
    "\n",
    "def multiplication(n1, n2):\n",
    "    return n1 * n2\n",
    "\n",
    "# Division\n",
    "\n",
    "def division(n1, n2):\n",
    "    return n1 / n2\n",
    "\n",
    "def modulus(n1, n2):\n",
    "    return n1 % n2\n",
    "\n",
    "def exponation(n1, n2):\n",
    "    return n1 ^ n2\n",
    "\n",
    "print(\"Select Operations\")\n",
    "print(\n",
    "    \"1. Addition\\n\"\n",
    "    \"2. Subtraction\\n\"\n",
    "    \"3. Multiplication\\n\"\n",
    "    \"4. Division\\n\"\n",
    "    \"5. Modulus\\n\"\n",
    "    \"6. Exponation\\n\"\n",
    ")\n",
    "\n",
    "\n",
    "operation = int(input(\"Enter choice of operation 1/2/3/4/5/6: \"))\n",
    "\n",
    "n1 = float(input(\"Enter First Number: \"))\n",
    "n2 = float(input(\"Enter Second Number: \"))\n",
    "\n",
    "if operation == 1:\n",
    "    print(n1,\"+\",n2,\"=\",addition(n1,n2))\n",
    "    \n",
    "elif operation == 2:\n",
    "    print (n1, \"-\", n2, \"=\",subtraction(n1,n2)) \n",
    "\n",
    "elif operation == 3:\n",
    "    print (n1, \"*\", n2, \"=\",multiplication(n1,n2)) \n",
    "    \n",
    "elif operation == 4:\n",
    "    print (n1, \"/\", n2, \"=\",division(n1,n2)) \n",
    "    \n",
    "elif operation == 5:\n",
    "    print(n1, \"%\",n2, \"=\",modulus(n1,n2))\n",
    "    \n",
    "elif operation == 6:\n",
    "    print(n1, \"^\", n2, \"=\",exponation(n1,n2))\n",
    "    \n",
    "else:\n",
    "    print(\"Invalid Input\")\n"
   ]
  },
  {
   "cell_type": "code",
   "execution_count": 1,
   "id": "42309f66",
   "metadata": {},
   "outputs": [],
   "source": [
    "def get_number(prompt):\n",
    "    while True:\n",
    "        try:\n",
    "            number = float(input(prompt))\n",
    "            return number\n",
    "        except ValueError:\n",
    "            print(\"Invalid input. Please enter a numeric value.\")"
   ]
  },
  {
   "cell_type": "code",
   "execution_count": null,
   "id": "9bf083a6",
   "metadata": {},
   "outputs": [],
   "source": []
  }
 ],
 "metadata": {
  "kernelspec": {
   "display_name": "Python 3 (ipykernel)",
   "language": "python",
   "name": "python3"
  },
  "language_info": {
   "codemirror_mode": {
    "name": "ipython",
    "version": 3
   },
   "file_extension": ".py",
   "mimetype": "text/x-python",
   "name": "python",
   "nbconvert_exporter": "python",
   "pygments_lexer": "ipython3",
   "version": "3.11.5"
  }
 },
 "nbformat": 4,
 "nbformat_minor": 5
}
